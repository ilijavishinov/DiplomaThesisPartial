{
 "cells": [
  {
   "cell_type": "code",
   "execution_count": 1,
   "metadata": {
    "collapsed": true,
    "pycharm": {
     "name": "#%%\n"
    }
   },
   "outputs": [
    {
     "ename": "TypeError",
     "evalue": "'>=' not supported between instances of 'str' and 'int'",
     "output_type": "error",
     "traceback": [
      "\u001B[1;31m---------------------------------------------------------------------------\u001B[0m",
      "\u001B[1;31mTypeError\u001B[0m                                 Traceback (most recent call last)",
      "\u001B[1;32m~\\AppData\\Local\\Temp/ipykernel_9440/3457277701.py\u001B[0m in \u001B[0;36m<module>\u001B[1;34m\u001B[0m\n\u001B[0;32m      6\u001B[0m \u001B[1;32mfor\u001B[0m \u001B[0mfile\u001B[0m \u001B[1;32min\u001B[0m \u001B[0mos\u001B[0m\u001B[1;33m.\u001B[0m\u001B[0mlistdir\u001B[0m\u001B[1;33m(\u001B[0m\u001B[0mdatasets_dir\u001B[0m\u001B[1;33m)\u001B[0m\u001B[1;33m:\u001B[0m\u001B[1;33m\u001B[0m\u001B[1;33m\u001B[0m\u001B[0m\n\u001B[0;32m      7\u001B[0m     \u001B[1;32mif\u001B[0m \u001B[0mfile\u001B[0m\u001B[1;33m.\u001B[0m\u001B[0mendswith\u001B[0m\u001B[1;33m(\u001B[0m\u001B[1;34m'.rar'\u001B[0m\u001B[1;33m)\u001B[0m\u001B[1;33m:\u001B[0m\u001B[1;33m\u001B[0m\u001B[1;33m\u001B[0m\u001B[0m\n\u001B[1;32m----> 8\u001B[1;33m         \u001B[0mpatoolib\u001B[0m\u001B[1;33m.\u001B[0m\u001B[0mextract_archive\u001B[0m\u001B[1;33m(\u001B[0m\u001B[1;34mf'{datasets_dir}/{file}'\u001B[0m\u001B[1;33m,\u001B[0m \u001B[1;34mf'{datasets_dir}/{file.strip(\".rar\")}'\u001B[0m\u001B[1;33m)\u001B[0m\u001B[1;33m\u001B[0m\u001B[1;33m\u001B[0m\u001B[0m\n\u001B[0m",
      "\u001B[1;32md:\\finki\\40_diploma_thesis\\venv\\lib\\site-packages\\patoolib\\__init__.py\u001B[0m in \u001B[0;36mextract_archive\u001B[1;34m(archive, verbosity, outdir, program, interactive)\u001B[0m\n\u001B[0;32m    680\u001B[0m     \u001B[1;34m\"\"\"Extract given archive.\"\"\"\u001B[0m\u001B[1;33m\u001B[0m\u001B[1;33m\u001B[0m\u001B[0m\n\u001B[0;32m    681\u001B[0m     \u001B[0mutil\u001B[0m\u001B[1;33m.\u001B[0m\u001B[0mcheck_existing_filename\u001B[0m\u001B[1;33m(\u001B[0m\u001B[0marchive\u001B[0m\u001B[1;33m)\u001B[0m\u001B[1;33m\u001B[0m\u001B[1;33m\u001B[0m\u001B[0m\n\u001B[1;32m--> 682\u001B[1;33m     \u001B[1;32mif\u001B[0m \u001B[0mverbosity\u001B[0m \u001B[1;33m>=\u001B[0m \u001B[1;36m0\u001B[0m\u001B[1;33m:\u001B[0m\u001B[1;33m\u001B[0m\u001B[1;33m\u001B[0m\u001B[0m\n\u001B[0m\u001B[0;32m    683\u001B[0m         \u001B[0mutil\u001B[0m\u001B[1;33m.\u001B[0m\u001B[0mlog_info\u001B[0m\u001B[1;33m(\u001B[0m\u001B[1;34m\"Extracting %s ...\"\u001B[0m \u001B[1;33m%\u001B[0m \u001B[0marchive\u001B[0m\u001B[1;33m)\u001B[0m\u001B[1;33m\u001B[0m\u001B[1;33m\u001B[0m\u001B[0m\n\u001B[0;32m    684\u001B[0m     \u001B[1;32mreturn\u001B[0m \u001B[0m_extract_archive\u001B[0m\u001B[1;33m(\u001B[0m\u001B[0marchive\u001B[0m\u001B[1;33m,\u001B[0m \u001B[0mverbosity\u001B[0m\u001B[1;33m=\u001B[0m\u001B[0mverbosity\u001B[0m\u001B[1;33m,\u001B[0m \u001B[0minteractive\u001B[0m\u001B[1;33m=\u001B[0m\u001B[0minteractive\u001B[0m\u001B[1;33m,\u001B[0m \u001B[0moutdir\u001B[0m\u001B[1;33m=\u001B[0m\u001B[0moutdir\u001B[0m\u001B[1;33m,\u001B[0m \u001B[0mprogram\u001B[0m\u001B[1;33m=\u001B[0m\u001B[0mprogram\u001B[0m\u001B[1;33m)\u001B[0m\u001B[1;33m\u001B[0m\u001B[1;33m\u001B[0m\u001B[0m\n",
      "\u001B[1;31mTypeError\u001B[0m: '>=' not supported between instances of 'str' and 'int'"
     ]
    }
   ],
   "source": [
    "from pyunpack import Archive\n",
    "import os\n",
    "\n",
    "datasets_dir = 'D:\\FINKI\\\\40_diploma_thesis\\datasets'\n",
    "\n",
    "for file in os.listdir(datasets_dir):\n",
    "    if file.endswith('.rar'):\n",
    "        Archive(f'{datasets_dir}/{file}').extractall(f'{datasets_dir}')\n",
    "\n",
    "\n"
   ]
  }
 ],
 "metadata": {
  "kernelspec": {
   "display_name": "Python 3",
   "language": "python",
   "name": "python3"
  },
  "language_info": {
   "codemirror_mode": {
    "name": "ipython",
    "version": 2
   },
   "file_extension": ".py",
   "mimetype": "text/x-python",
   "name": "python",
   "nbconvert_exporter": "python",
   "pygments_lexer": "ipython2",
   "version": "2.7.6"
  }
 },
 "nbformat": 4,
 "nbformat_minor": 0
}