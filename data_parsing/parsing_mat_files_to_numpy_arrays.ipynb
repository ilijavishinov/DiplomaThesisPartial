{
 "cells": [
  {
   "cell_type": "code",
   "execution_count": 49,
   "outputs": [],
   "source": [
    "import scipy.io\n",
    "import pandas as pd\n",
    "import numpy as np\n",
    "import os\n",
    "\n",
    "main_data_dir = '../data/datasets'\n",
    "write_data_dir = r'D:\\FINKI\\40_diploma_thesis\\data\\datasets_numpy'"
   ],
   "metadata": {
    "collapsed": false,
    "pycharm": {
     "name": "#%%\n"
    }
   }
  },
  {
   "cell_type": "code",
   "execution_count": 41,
   "outputs": [
    {
     "name": "stderr",
     "output_type": "stream",
     "text": [
      "C:\\Users\\ilija\\AppData\\Local\\Temp/ipykernel_12324/3049034874.py:79: DeprecationWarning: The default dtype for empty Series will be 'object' instead of 'float64' in a future version. Specify a dtype explicitly to silence this warning.\n",
      "  measurement = pd.Series()\n"
     ]
    },
    {
     "name": "stdout",
     "output_type": "stream",
     "text": [
      "Expecting matrix here\n"
     ]
    }
   ],
   "source": [
    "signals_df = pd.DataFrame()\n",
    "consistent_index = None\n",
    "\n",
    "for data_dir in os.listdir(main_data_dir):\n",
    "    if data_dir.endswith('.rar'): continue\n",
    "    for file in os.listdir(f'{main_data_dir}/{data_dir}'):\n",
    "        if not file.endswith('.mat'): continue\n",
    "        try:\n",
    "            # read file\n",
    "            mat = scipy.io.loadmat(f'{main_data_dir}/{data_dir}/{file}')\n",
    "            struct = mat[file.strip('.mat')]\n",
    "\n",
    "            # parse info\n",
    "            info = struct[0][0][0][0]\n",
    "            info_dtypes = info.dtype\n",
    "            info_names = info_dtypes.names\n",
    "            info_data = info[0]\n",
    "            info_values = [i[0][0] for i in info_data]\n",
    "            info_dict = {name: value for (name, value) in zip(info_names, info_values)}\n",
    "\n",
    "            # parse x\n",
    "            x = struct[0][0][1]\n",
    "            x_dtypes = x.dtype\n",
    "            x_names = x_dtypes.names\n",
    "            x_data = x[0]\n",
    "            x_data_shape = x_data.shape\n",
    "            x_data_dict = dict()\n",
    "\n",
    "            for i in range(x_data_shape[0]):\n",
    "                x_data_dict[i] = dict()\n",
    "                for x_row_element, x_element_name in zip(x_data[i], x_names):\n",
    "                    try:\n",
    "                        if x_row_element[0].shape == (1,):\n",
    "                            x_data_dict[i][f'x_{x_element_name}'] = x_row_element[0][0]\n",
    "                        else:\n",
    "                            x_data_dict[i][f'X_{x_element_name}'] = x_row_element[0]\n",
    "                    except:\n",
    "                        x_data_dict[i][f'X_{x_element_name}'] = []\n",
    "            x_data_df = pd.DataFrame(x_data_dict).T\n",
    "\n",
    "            # parse y\n",
    "            y = struct[0][0][2]\n",
    "            y_dtypes = y.dtype\n",
    "            y_names = y_dtypes.names\n",
    "            y_data = y[0]\n",
    "            y_data_shape = y_data.shape\n",
    "            y_data_dict = dict()\n",
    "\n",
    "            for i in range(y_data_shape[0]):\n",
    "                y_data_dict[i] = dict()\n",
    "                for y_row_element, y_element_name in zip(y_data[i], y_names):\n",
    "                    try:\n",
    "                        if y_row_element[0].shape == (1,):\n",
    "                            y_data_dict[i][f'Y_{y_element_name}'] = y_row_element[0][0]\n",
    "                        else:\n",
    "                            y_data_dict[i][f'Y_{y_element_name}'] = y_row_element[0]\n",
    "                    except:\n",
    "                        y_data_dict[i][f'Y_{y_element_name}'] = []\n",
    "            y_data_df = pd.DataFrame(y_data_dict).T\n",
    "\n",
    "            # parse description\n",
    "            desc = struct[0][0][3][0][0]\n",
    "            desc_names = desc.dtype.names\n",
    "            desc_dict = dict()\n",
    "\n",
    "            for i in range(len(desc_names)):\n",
    "                name_struct = struct[0][0][3][0][0][i]\n",
    "                name_subnames = name_struct.dtype.names\n",
    "                for element, element_subname in zip(name_struct[0][0], name_subnames):\n",
    "                    try:\n",
    "                        if element[0].shape == (1,):\n",
    "                            desc_dict[f'{desc_names[i]}_{element_subname}'] = element[0][0]\n",
    "                        else:\n",
    "                            desc_dict[f'{desc_names[i]}_{element_subname}'] = element[0]\n",
    "                    except:\n",
    "                        desc_dict[f'{desc_names[i]}_{element_subname}'] = []\n",
    "            desc_data_df = pd.Series(desc_dict)\n",
    "\n",
    "            measurement = pd.Series()\n",
    "            for row_idx, row in x_data_df.iterrows():\n",
    "                measurement[f'{row[\"X_Raster\"]}_Data'.replace(\"HostService\", \"HostService_64kHz\")] = row['X_Data']\n",
    "            for row_idx, row in y_data_df.iterrows():\n",
    "                measurement[f'{row[\"Y_Raster\"]}_{row[\"Y_Name\"]}'.replace(\"HostService\", \"HostService_64kHz\")] = row['Y_Data']\n",
    "\n",
    "            # assert consistency of index\n",
    "            if not consistent_index:\n",
    "                consistent_index = list(measurement.index)\n",
    "            else:\n",
    "                assert list(measurement.index) == consistent_index; \"Index differs between np arrays\"\n",
    "\n",
    "            np.save(f'{write_data_dir}/{file.strip(\".mat\")}.npy', measurement.to_numpy())\n",
    "        except Exception as e:\n",
    "            print(str(e))\n",
    "\n"
   ],
   "metadata": {
    "collapsed": false,
    "pycharm": {
     "name": "#%%\n"
    }
   }
  },
  {
   "cell_type": "code",
   "execution_count": 51,
   "outputs": [],
   "source": [
    "with open(f'{write_data_dir}/index.txt', 'w') as f:\n",
    "    f.write(str(list(measurement.index)))"
   ],
   "metadata": {
    "collapsed": false,
    "pycharm": {
     "name": "#%%\n"
    }
   }
  },
  {
   "cell_type": "code",
   "execution_count": null,
   "outputs": [],
   "source": [],
   "metadata": {
    "collapsed": false,
    "pycharm": {
     "name": "#%%\n"
    }
   }
  }
 ],
 "metadata": {
  "kernelspec": {
   "display_name": "Python 3",
   "language": "python",
   "name": "python3"
  },
  "language_info": {
   "codemirror_mode": {
    "name": "ipython",
    "version": 2
   },
   "file_extension": ".py",
   "mimetype": "text/x-python",
   "name": "python",
   "nbconvert_exporter": "python",
   "pygments_lexer": "ipython2",
   "version": "2.7.6"
  }
 },
 "nbformat": 4,
 "nbformat_minor": 0
}