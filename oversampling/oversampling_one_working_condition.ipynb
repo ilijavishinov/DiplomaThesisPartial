{
 "cells": [
  {
   "cell_type": "code",
   "execution_count": 1,
   "metadata": {
    "collapsed": true
   },
   "outputs": [],
   "source": [
    "\n",
    "import numpy as np\n",
    "import os\n",
    "import txt_module, json_module, dirs_module\n",
    "\n",
    "data_dir = r'D:\\FINKI\\40_diploma_thesis\\data\\datasets_numpy'\n",
    "arrays_index = txt_module.read_list_from_txt(r'D:\\FINKI\\40_diploma_thesis\\data\\datasets_numpy\\index.txt')\n",
    "min_measurement_lengths = json_module.read_json(r'D:\\FINKI\\40_diploma_thesis\\metadata\\min_measurement_lengths.json')\n",
    "\n",
    "write_data_dir = r'D:\\FINKI\\40_diploma_thesis\\data\\datasets_numpy_1S_Offset005_N09_M07_F10'\n",
    "dirs_module.create_directory(write_data_dir)"
   ]
  },
  {
   "cell_type": "code",
   "execution_count": 2,
   "outputs": [],
   "source": [
    "WORKING_CONDITION_TO_OVERSAMPLE = 'N09_M07_F10'\n",
    "NEW_SIGNAL_DURATION_SECONDS = 1\n",
    "OFFSET_SECONDS_DAMAGED = 0.05\n",
    "OFFSET_SECONDS_HEALTHY = 0.05"
   ],
   "metadata": {
    "collapsed": false,
    "pycharm": {
     "name": "#%%\n"
    }
   }
  },
  {
   "cell_type": "code",
   "execution_count": 3,
   "outputs": [],
   "source": [
    "def number_of_samples_per_second_from_string(hz_string):\n",
    "    hz_string = hz_string.split('_')[1].strip('Hz')\n",
    "    kHz = False\n",
    "    if hz_string.endswith('k'):\n",
    "        kHz = True\n",
    "        hz_string = hz_string.strip('k')\n",
    "    return int(hz_string) * 1000 if kHz else int(hz_string)\n",
    "\n",
    "samples_per_second_dict = {feature: number_of_samples_per_second_from_string(feature) for feature in arrays_index}\n",
    "healthy_offset_samples_dict = {feature: samples_per_second * OFFSET_SECONDS_HEALTHY\n",
    "                               for feature, samples_per_second in samples_per_second_dict.items()}\n",
    "damaged_offset_samples_dict = {feature: samples_per_second * OFFSET_SECONDS_DAMAGED\n",
    "                               for feature, samples_per_second in samples_per_second_dict.items()}"
   ],
   "metadata": {
    "collapsed": false,
    "pycharm": {
     "name": "#%%\n"
    }
   }
  },
  {
   "cell_type": "code",
   "execution_count": 4,
   "outputs": [
    {
     "name": "stderr",
     "output_type": "stream",
     "text": [
      "C:\\Users\\ilija\\AppData\\Local\\Temp/ipykernel_17092/1622323216.py:40: VisibleDeprecationWarning: Creating an ndarray from ragged nested sequences (which is a list-or-tuple of lists-or-tuples-or ndarrays with different lengths or shapes) is deprecated. If you meant to do this, you must specify 'dtype=object' when creating the ndarray\n",
      "  np.save(f'{write_data_dir}/{file.strip(\".npy\")}_{new_signal_id}.npy', np.array(new_file_list_to_ndarray))\n"
     ]
    },
    {
     "ename": "OSError",
     "evalue": "[Errno 28] No space left on device",
     "output_type": "error",
     "traceback": [
      "\u001B[1;31m---------------------------------------------------------------------------\u001B[0m",
      "\u001B[1;31mOSError\u001B[0m                                   Traceback (most recent call last)",
      "\u001B[1;32m~\\AppData\\Local\\Temp/ipykernel_17092/1622323216.py\u001B[0m in \u001B[0;36m<module>\u001B[1;34m\u001B[0m\n\u001B[0;32m     38\u001B[0m                 \u001B[0mmore_signals_to_generate\u001B[0m \u001B[1;33m=\u001B[0m \u001B[1;32mFalse\u001B[0m\u001B[1;33m\u001B[0m\u001B[1;33m\u001B[0m\u001B[0m\n\u001B[0;32m     39\u001B[0m \u001B[1;33m\u001B[0m\u001B[0m\n\u001B[1;32m---> 40\u001B[1;33m         \u001B[0mnp\u001B[0m\u001B[1;33m.\u001B[0m\u001B[0msave\u001B[0m\u001B[1;33m(\u001B[0m\u001B[1;34mf'{write_data_dir}/{file.strip(\".npy\")}_{new_signal_id}.npy'\u001B[0m\u001B[1;33m,\u001B[0m \u001B[0mnp\u001B[0m\u001B[1;33m.\u001B[0m\u001B[0marray\u001B[0m\u001B[1;33m(\u001B[0m\u001B[0mnew_file_list_to_ndarray\u001B[0m\u001B[1;33m)\u001B[0m\u001B[1;33m)\u001B[0m\u001B[1;33m\u001B[0m\u001B[1;33m\u001B[0m\u001B[0m\n\u001B[0m\u001B[0;32m     41\u001B[0m \u001B[1;33m\u001B[0m\u001B[0m\n\u001B[0;32m     42\u001B[0m \u001B[1;33m\u001B[0m\u001B[0m\n",
      "\u001B[1;32m<__array_function__ internals>\u001B[0m in \u001B[0;36msave\u001B[1;34m(*args, **kwargs)\u001B[0m\n",
      "\u001B[1;32md:\\finki\\40_diploma_thesis\\venv\\lib\\site-packages\\numpy\\lib\\npyio.py\u001B[0m in \u001B[0;36msave\u001B[1;34m(file, arr, allow_pickle, fix_imports)\u001B[0m\n\u001B[0;32m    526\u001B[0m     \u001B[1;32mwith\u001B[0m \u001B[0mfile_ctx\u001B[0m \u001B[1;32mas\u001B[0m \u001B[0mfid\u001B[0m\u001B[1;33m:\u001B[0m\u001B[1;33m\u001B[0m\u001B[1;33m\u001B[0m\u001B[0m\n\u001B[0;32m    527\u001B[0m         \u001B[0marr\u001B[0m \u001B[1;33m=\u001B[0m \u001B[0mnp\u001B[0m\u001B[1;33m.\u001B[0m\u001B[0masanyarray\u001B[0m\u001B[1;33m(\u001B[0m\u001B[0marr\u001B[0m\u001B[1;33m)\u001B[0m\u001B[1;33m\u001B[0m\u001B[1;33m\u001B[0m\u001B[0m\n\u001B[1;32m--> 528\u001B[1;33m         format.write_array(fid, arr, allow_pickle=allow_pickle,\n\u001B[0m\u001B[0;32m    529\u001B[0m                            pickle_kwargs=dict(fix_imports=fix_imports))\n\u001B[0;32m    530\u001B[0m \u001B[1;33m\u001B[0m\u001B[0m\n",
      "\u001B[1;32md:\\finki\\40_diploma_thesis\\venv\\lib\\site-packages\\numpy\\lib\\format.py\u001B[0m in \u001B[0;36mwrite_array\u001B[1;34m(fp, array, version, allow_pickle, pickle_kwargs)\u001B[0m\n\u001B[0;32m    662\u001B[0m         \u001B[1;32mif\u001B[0m \u001B[0mpickle_kwargs\u001B[0m \u001B[1;32mis\u001B[0m \u001B[1;32mNone\u001B[0m\u001B[1;33m:\u001B[0m\u001B[1;33m\u001B[0m\u001B[1;33m\u001B[0m\u001B[0m\n\u001B[0;32m    663\u001B[0m             \u001B[0mpickle_kwargs\u001B[0m \u001B[1;33m=\u001B[0m \u001B[1;33m{\u001B[0m\u001B[1;33m}\u001B[0m\u001B[1;33m\u001B[0m\u001B[1;33m\u001B[0m\u001B[0m\n\u001B[1;32m--> 664\u001B[1;33m         \u001B[0mpickle\u001B[0m\u001B[1;33m.\u001B[0m\u001B[0mdump\u001B[0m\u001B[1;33m(\u001B[0m\u001B[0marray\u001B[0m\u001B[1;33m,\u001B[0m \u001B[0mfp\u001B[0m\u001B[1;33m,\u001B[0m \u001B[0mprotocol\u001B[0m\u001B[1;33m=\u001B[0m\u001B[1;36m3\u001B[0m\u001B[1;33m,\u001B[0m \u001B[1;33m**\u001B[0m\u001B[0mpickle_kwargs\u001B[0m\u001B[1;33m)\u001B[0m\u001B[1;33m\u001B[0m\u001B[1;33m\u001B[0m\u001B[0m\n\u001B[0m\u001B[0;32m    665\u001B[0m     \u001B[1;32melif\u001B[0m \u001B[0marray\u001B[0m\u001B[1;33m.\u001B[0m\u001B[0mflags\u001B[0m\u001B[1;33m.\u001B[0m\u001B[0mf_contiguous\u001B[0m \u001B[1;32mand\u001B[0m \u001B[1;32mnot\u001B[0m \u001B[0marray\u001B[0m\u001B[1;33m.\u001B[0m\u001B[0mflags\u001B[0m\u001B[1;33m.\u001B[0m\u001B[0mc_contiguous\u001B[0m\u001B[1;33m:\u001B[0m\u001B[1;33m\u001B[0m\u001B[1;33m\u001B[0m\u001B[0m\n\u001B[0;32m    666\u001B[0m         \u001B[1;32mif\u001B[0m \u001B[0misfileobj\u001B[0m\u001B[1;33m(\u001B[0m\u001B[0mfp\u001B[0m\u001B[1;33m)\u001B[0m\u001B[1;33m:\u001B[0m\u001B[1;33m\u001B[0m\u001B[1;33m\u001B[0m\u001B[0m\n",
      "\u001B[1;31mOSError\u001B[0m: [Errno 28] No space left on device"
     ]
    }
   ],
   "source": [
    "for file in os.listdir(data_dir):\n",
    "    if not file.startswith(WORKING_CONDITION_TO_OVERSAMPLE): continue\n",
    "    file_ndarray = np.load(f'{data_dir}/{file}', allow_pickle = True)\n",
    "\n",
    "    current_start_position = {feature: 0 for feature in arrays_index}\n",
    "\n",
    "    new_signal_id = 0\n",
    "    more_signals_to_generate = True\n",
    "    while more_signals_to_generate:\n",
    "        new_signal_id += 1\n",
    "\n",
    "        # generating subsignals\n",
    "        new_file_list_to_ndarray = list()\n",
    "        feature_position = -1\n",
    "        for feature_array in file_ndarray:\n",
    "            feature_position += 1\n",
    "            feature = arrays_index[feature_position]\n",
    "            # ignore temperature since it is measured in 1Hz\n",
    "            if feature.startswith('Temp'): continue\n",
    "\n",
    "            feature_array = feature_array[:min_measurement_lengths[feature]].astype(np.float32)\n",
    "\n",
    "            start = int(current_start_position[feature])\n",
    "            end = int(current_start_position[feature] + samples_per_second_dict[feature] * NEW_SIGNAL_DURATION_SECONDS)\n",
    "            new_file_list_to_ndarray.append(feature_array[start:end])\n",
    "\n",
    "        # new start posoition\n",
    "        if file.split('_')[3].startswith('K00'):\n",
    "            current_start_position = {feature: int(current_start_pos + healthy_offset_samples_dict[feature])\n",
    "                                      for feature, current_start_pos in current_start_position.items()}\n",
    "        else:\n",
    "            current_start_position = {feature: int(current_start_pos + damaged_offset_samples_dict[feature])\n",
    "                                      for feature, current_start_pos in current_start_position.items()}\n",
    "\n",
    "        # break condition\n",
    "        for feature, new_start_position in current_start_position.items():\n",
    "            if new_start_position + samples_per_second_dict[feature] * NEW_SIGNAL_DURATION_SECONDS > min_measurement_lengths[feature]:\n",
    "                more_signals_to_generate = False\n",
    "\n",
    "        np.save(f'{write_data_dir}/{file.strip(\".npy\")}_{new_signal_id}.npy', np.array(new_file_list_to_ndarray))\n"
   ],
   "metadata": {
    "collapsed": false,
    "pycharm": {
     "name": "#%%\n"
    }
   }
  },
  {
   "cell_type": "code",
   "execution_count": 5,
   "outputs": [],
   "source": [
    " new_arrays_index = [feature for feature in arrays_index if not feature.startswith('Temp')]"
   ],
   "metadata": {
    "collapsed": false,
    "pycharm": {
     "name": "#%%\n"
    }
   }
  },
  {
   "cell_type": "code",
   "execution_count": null,
   "outputs": [],
   "source": [],
   "metadata": {
    "collapsed": false,
    "pycharm": {
     "name": "#%%\n"
    }
   }
  }
 ],
 "metadata": {
  "kernelspec": {
   "display_name": "Python 3",
   "language": "python",
   "name": "python3"
  },
  "language_info": {
   "codemirror_mode": {
    "name": "ipython",
    "version": 2
   },
   "file_extension": ".py",
   "mimetype": "text/x-python",
   "name": "python",
   "nbconvert_exporter": "python",
   "pygments_lexer": "ipython2",
   "version": "2.7.6"
  }
 },
 "nbformat": 4,
 "nbformat_minor": 0
}