{
 "cells": [
  {
   "cell_type": "code",
   "execution_count": 1,
   "metadata": {
    "collapsed": true
   },
   "outputs": [],
   "source": [
    "\n",
    "import numpy as np\n",
    "import os\n",
    "import txt_module, json_module, dirs_module\n",
    "\n",
    "data_dir = r'D:\\FINKI\\40_diploma_thesis\\data\\datasets_numpy'\n",
    "arrays_index = txt_module.read_list_from_txt(r'D:\\FINKI\\40_diploma_thesis\\data\\datasets_numpy\\index.txt')\n",
    "min_measurement_lengths = json_module.read_json(r'D:\\FINKI\\40_diploma_thesis\\metadata\\min_measurement_lengths.json')\n"
   ]
  },
  {
   "cell_type": "code",
   "execution_count": 2,
   "outputs": [],
   "source": [
    "NEW_SIGNAL_DURATION_SECONDS = 0.5\n",
    "OFFSET_SECONDS_DAMAGED = 0.01\n",
    "OFFSET_SECONDS_HEALTHY = 0.005\n",
    "\n",
    "write_data_dir = fr'G:\\s3_datasets_numpy_' \\\n",
    "                 fr'{str(NEW_SIGNAL_DURATION_SECONDS).replace(\".\",\"\")}S_' \\\n",
    "                 fr'OffsetHealthy{str(OFFSET_SECONDS_HEALTHY).replace(\".\",\"\")}_' \\\n",
    "                 fr'OffsetDamaged{str(OFFSET_SECONDS_DAMAGED).replace(\".\",\"\")}'\n",
    "dirs_module.create_directory(write_data_dir)"
   ],
   "metadata": {
    "collapsed": false,
    "pycharm": {
     "name": "#%%\n"
    }
   }
  },
  {
   "cell_type": "code",
   "execution_count": 3,
   "outputs": [],
   "source": [
    "filter_regime = True\n",
    "regimes_done = ['N09_M07_F10','N15_M07_F10']\n",
    "\n",
    "# s3\n",
    "healthy_train = ['K001','K002','K003']\n",
    "real_damage_train = ['KA04','KA15','KA22','KA30','KB23','KB27','KI04','KI17']\n",
    "artificial_damage_train = ['KA01','KA05','KA07','KI01','KI03']\n",
    "\n",
    "train_bearing_codes = healthy_train + artificial_damage_train + real_damage_train\n",
    "\n",
    "features_to_generate = [\n",
    "    # 'Mech_4kHz_Data',\n",
    "    # 'HostService_64kHz_Data',\n",
    "    # 'Temp_1Hz_Data',\n",
    "    # 'Mech_4kHz_force',\n",
    "    # 'HostService_64kHz_phase_current_1',\n",
    "    # 'HostService_64kHz_phase_current_2',\n",
    "    # 'Mech_4kHz_speed',\n",
    "    # 'Temp_1Hz_temp_2_bearing_module',\n",
    "    # 'Mech_4kHz_torque',\n",
    "    'HostService_64kHz_vibration_1'\n",
    "]"
   ],
   "metadata": {
    "collapsed": false,
    "pycharm": {
     "name": "#%%\n"
    }
   }
  },
  {
   "cell_type": "code",
   "execution_count": 4,
   "outputs": [],
   "source": [
    "def number_of_samples_per_second_from_string(hz_string):\n",
    "    hz_string = hz_string.split('_')[1].strip('Hz')\n",
    "    kHz = False\n",
    "    if hz_string.endswith('k'):\n",
    "        kHz = True\n",
    "        hz_string = hz_string.strip('k')\n",
    "    return int(hz_string) * 1000 if kHz else int(hz_string)\n",
    "\n",
    "samples_per_second_dict = {feature: number_of_samples_per_second_from_string(feature) for feature in arrays_index}\n",
    "healthy_offset_samples_dict = {feature: samples_per_second * OFFSET_SECONDS_HEALTHY\n",
    "                               for feature, samples_per_second in samples_per_second_dict.items()}\n",
    "damaged_offset_samples_dict = {feature: samples_per_second * OFFSET_SECONDS_DAMAGED\n",
    "                               for feature, samples_per_second in samples_per_second_dict.items()}"
   ],
   "metadata": {
    "collapsed": false,
    "pycharm": {
     "name": "#%%\n"
    }
   }
  },
  {
   "cell_type": "code",
   "execution_count": 5,
   "outputs": [],
   "source": [
    "for file in os.listdir(data_dir):\n",
    "    if file.startswith('index'): continue\n",
    "    if file.split('_')[3] not in train_bearing_codes: continue\n",
    "    if filter_regime:\n",
    "        for regime in regimes_done:\n",
    "            if regime in file: continue\n",
    "    file_ndarray = np.load(f'{data_dir}/{file}', allow_pickle = True)\n",
    "\n",
    "    current_start_position = {feature: 0 for feature in arrays_index}\n",
    "\n",
    "    new_signal_id = 0\n",
    "    more_signals_to_generate = True\n",
    "    while more_signals_to_generate:\n",
    "        new_signal_id += 1\n",
    "\n",
    "        # generating subsignals\n",
    "        new_file_list_to_ndarray = list()\n",
    "        feature_position = -1\n",
    "        for feature_array in file_ndarray:\n",
    "            feature_position += 1\n",
    "            feature = arrays_index[feature_position]\n",
    "            # ignore temperature since it is measured in 1Hz\n",
    "            if feature not in features_to_generate: continue\n",
    "            feature_array = feature_array[:min_measurement_lengths[feature]].astype(np.float32)\n",
    "\n",
    "            start = int(current_start_position[feature])\n",
    "            end = int(current_start_position[feature] + samples_per_second_dict[feature] * NEW_SIGNAL_DURATION_SECONDS)\n",
    "            new_file_list_to_ndarray.append(feature_array[start:end])\n",
    "\n",
    "        # new start posoition\n",
    "        if file.split('_')[3].startswith('K00'):\n",
    "            current_start_position = {feature: int(current_start_pos + healthy_offset_samples_dict[feature])\n",
    "                                      for feature, current_start_pos in current_start_position.items()}\n",
    "        else:\n",
    "            current_start_position = {feature: int(current_start_pos + damaged_offset_samples_dict[feature])\n",
    "                                      for feature, current_start_pos in current_start_position.items()}\n",
    "\n",
    "        # break condition\n",
    "        for feature, new_start_position in current_start_position.items():\n",
    "            if new_start_position + samples_per_second_dict[feature] * NEW_SIGNAL_DURATION_SECONDS > min_measurement_lengths[feature]:\n",
    "                more_signals_to_generate = False\n",
    "\n",
    "        np.save(f'{write_data_dir}/{file.strip(\".npy\")}_{new_signal_id}.npy', np.array(new_file_list_to_ndarray))\n"
   ],
   "metadata": {
    "collapsed": false,
    "pycharm": {
     "name": "#%%\n"
    }
   }
  },
  {
   "cell_type": "code",
   "execution_count": 15,
   "outputs": [],
   "source": [
    "%reset"
   ],
   "metadata": {
    "collapsed": false,
    "pycharm": {
     "name": "#%%\n"
    }
   }
  },
  {
   "cell_type": "code",
   "execution_count": null,
   "outputs": [],
   "source": [],
   "metadata": {
    "collapsed": false,
    "pycharm": {
     "name": "#%%\n",
     "is_executing": true
    }
   }
  }
 ],
 "metadata": {
  "kernelspec": {
   "display_name": "Python 3",
   "language": "python",
   "name": "python3"
  },
  "language_info": {
   "codemirror_mode": {
    "name": "ipython",
    "version": 2
   },
   "file_extension": ".py",
   "mimetype": "text/x-python",
   "name": "python",
   "nbconvert_exporter": "python",
   "pygments_lexer": "ipython2",
   "version": "2.7.6"
  }
 },
 "nbformat": 4,
 "nbformat_minor": 0
}