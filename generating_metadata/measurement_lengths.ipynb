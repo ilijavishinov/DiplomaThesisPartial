{
 "cells": [
  {
   "cell_type": "code",
   "execution_count": 1,
   "metadata": {
    "collapsed": true
   },
   "outputs": [
    {
     "data": {
      "text/plain": "['Mech_4kHz_Data',\n 'HostService_64kHz_Data',\n 'Temp_1Hz_Data',\n 'Mech_4kHz_force',\n 'HostService_64kHz_phase_current_1',\n 'HostService_64kHz_phase_current_2',\n 'Mech_4kHz_speed',\n 'Temp_1Hz_temp_2_bearing_module',\n 'Mech_4kHz_torque',\n 'HostService_64kHz_vibration_1']"
     },
     "execution_count": 1,
     "metadata": {},
     "output_type": "execute_result"
    }
   ],
   "source": [
    "import os\n",
    "import numpy as np\n",
    "\n",
    "data_dir = r'\\data\\datasets_numpy'\n",
    "with open(rf'{data_dir}\\index.txt','r') as index_file:\n",
    "    arrays_index = eval(index_file.read())\n",
    "arrays_index"
   ]
  },
  {
   "cell_type": "code",
   "execution_count": 2,
   "outputs": [],
   "source": [
    "min_measurement_length = dict()\n",
    "for index_iter in arrays_index:\n",
    "    min_measurement_length[index_iter] = 300000"
   ],
   "metadata": {
    "collapsed": false,
    "pycharm": {
     "name": "#%%\n"
    }
   }
  },
  {
   "cell_type": "code",
   "execution_count": 3,
   "outputs": [],
   "source": [
    "for file in os.listdir(data_dir):\n",
    "    if file.startswith('index'): continue\n",
    "    file_ndarray = np.load(f'{data_dir}/{file}', allow_pickle = True)\n",
    "\n",
    "    i = 0\n",
    "    for array in file_ndarray:\n",
    "        index_iter = arrays_index[i]\n",
    "        min_measurement_length[index_iter] = min(min_measurement_length[index_iter], array.shape[0])\n",
    "        i+=1"
   ],
   "metadata": {
    "collapsed": false,
    "pycharm": {
     "name": "#%%\n"
    }
   }
  },
  {
   "cell_type": "code",
   "execution_count": 5,
   "outputs": [],
   "source": [
    "from modules import json_module\n",
    "json_module.dict_to_json(min_measurement_length,\n",
    "                         r'D:\\FINKI\\40_diploma_thesis\\metadata\\min_measurement_lengths.json')"
   ],
   "metadata": {
    "collapsed": false,
    "pycharm": {
     "name": "#%%\n"
    }
   }
  },
  {
   "cell_type": "code",
   "execution_count": null,
   "outputs": [],
   "source": [],
   "metadata": {
    "collapsed": false,
    "pycharm": {
     "name": "#%%\n"
    }
   }
  }
 ],
 "metadata": {
  "kernelspec": {
   "display_name": "Python 3",
   "language": "python",
   "name": "python3"
  },
  "language_info": {
   "codemirror_mode": {
    "name": "ipython",
    "version": 2
   },
   "file_extension": ".py",
   "mimetype": "text/x-python",
   "name": "python",
   "nbconvert_exporter": "python",
   "pygments_lexer": "ipython2",
   "version": "2.7.6"
  }
 },
 "nbformat": 4,
 "nbformat_minor": 0
}