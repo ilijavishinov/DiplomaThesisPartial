{
 "cells": [
  {
   "cell_type": "code",
   "execution_count": 1,
   "outputs": [],
   "source": [
    "import tabula\n",
    "import os\n",
    "import pandas as pd\n",
    "import numpy as np\n",
    "\n",
    "main_data_dir = 'D:\\FINKI\\\\40_diploma_thesis\\datasets'\n",
    "write_data_dir = 'D:\\FINKI\\\\40_diploma_thesis\\metadata'\n",
    "\n",
    "def read_datasets_metadata():\n",
    "\n",
    "    all_datasets_metadata = pd.DataFrame()\n",
    "\n",
    "    for data_dir in os.listdir(main_data_dir):\n",
    "\n",
    "        table = tabula.read_pdf(f'{main_data_dir}\\\\{data_dir}\\\\{data_dir}.pdf')\n",
    "        df = table[0]\n",
    "        columns = df.columns\n",
    "\n",
    "        part3 = df[~df[columns[0]].isna()]\n",
    "        part3.drop([columns[3], columns[4]], axis = 1, inplace = True)\n",
    "        part3.columns = ['Description', 'Unit', 'Value']\n",
    "\n",
    "        part2 = df[~df[columns[1]].isna() & df[columns[0]].isna()]\n",
    "        part2.drop([columns[0], columns[4]], axis = 1, inplace = True)\n",
    "        part2.columns = ['Description', 'Unit', 'Value']\n",
    "\n",
    "        part1 = df[df[columns[1]].isna() & df[columns[0]].isna()]\n",
    "        part1.drop([columns[0], columns[1]], axis = 1, inplace = True)\n",
    "        part1.columns = ['Description', 'Unit', 'Value']\n",
    "\n",
    "        pdf_df = pd.concat([part1, part2, part3], axis = 0)\n",
    "        pdf_df['Bearing Code'] = data_dir\n",
    "        pdf_df.replace('-', np.nan, inplace = True)\n",
    "\n",
    "        pdf_df.to_csv(f'{write_data_dir}\\\\{data_dir}_metadata.csv', index = False)\n",
    "        all_datasets_metadata = pd.concat([all_datasets_metadata, pdf_df], axis = 0)\n",
    "\n",
    "    all_datasets_metadata.to_csv(f'{write_data_dir}\\\\all_datasets_metadata.csv', index = False)\n"
   ],
   "metadata": {
    "collapsed": false,
    "pycharm": {
     "name": "#%%\n"
    }
   }
  },
  {
   "cell_type": "code",
   "execution_count": 11,
   "outputs": [],
   "source": [
    "\n",
    "page5_tables = tabula.read_pdf(r'D:\\FINKI\\40_diploma_thesis\\papers\\dataset_paper.pdf',pages = [4])\n",
    "page5_table = page5_tables[0]\n",
    "page5_table.columns = ['Damage level', 'Percentage', 'Limits for bearing']\n",
    "page5_table.to_csv('DatasetPaper_Table2.csv')\n"
   ],
   "metadata": {
    "collapsed": false,
    "pycharm": {
     "name": "#%%\n"
    }
   }
  },
  {
   "cell_type": "code",
   "execution_count": null,
   "outputs": [],
   "source": [
    "page5_tables = tabula.read_pdf(r'D:\\FINKI\\40_diploma_thesis\\papers\\dataset_paper.pdf',pages = [5])\n",
    "page5_table = page5_tables[1].iloc[:-1]\n",
    "page5_table.columns = ['Bearing Code', 'Component', 'Level of damage', 'Damage method']\n",
    "print(page5_table)\n",
    "page5_table.to_csv('DatasetPaper_Table4.csv')"
   ],
   "metadata": {
    "collapsed": false,
    "pycharm": {
     "name": "#%%\n"
    }
   }
  },
  {
   "cell_type": "code",
   "execution_count": 3,
   "outputs": [
    {
     "name": "stdout",
     "output_type": "stream",
     "text": [
      "   Bearing Code                         Damage Bearing element Combination  \\\n",
      "0          KA04               fatigue: pitting              OR           S   \n",
      "1          KA15  Plastic deform.: Indentations              OR           S   \n",
      "2          KA16               fatigue: pitting              OR           R   \n",
      "3          KA22               fatigue: pitting              OR           S   \n",
      "4          KA30  Plastic deform.: Indentations              OR           R   \n",
      "5          KB23               fatigue: pitting        IR (+OR)           M   \n",
      "6          KB24               fatigue: pitting        IR (+OR)           M   \n",
      "7          KB27  Plastic deform.: Indentations        OR +\\rIR           M   \n",
      "8          KI04               fatigue: pitting              IR           M   \n",
      "9          KI14               fatigue: pitting              IR           M   \n",
      "10         KI16               fatigue: pitting              IR           S   \n",
      "11         KI17               fatigue: pitting              IR           R   \n",
      "12         KI18               fatigue: pitting              IR           S   \n",
      "13         KI21               fatigue: pitting              IR           S   \n",
      "\n",
      "      Arrangement   Extent of damage Characteristic of damage  \n",
      "0   no repetition                1.0             single point  \n",
      "1   no repetition                1.0             single point  \n",
      "2          random                2.0             single point  \n",
      "3   no repetition                1.0             single point  \n",
      "4          random                1.0              distributed  \n",
      "5          random                2.0             single point  \n",
      "6   no repetition                3.0              distributed  \n",
      "7          random                1.0              distributed  \n",
      "8   no repetition                1.0             single point  \n",
      "9   no repetition                1.0             single point  \n",
      "10  no repetition                3.0             single point  \n",
      "11         random                1.0             single point  \n",
      "12  no repetition                2.0             single point  \n",
      "13  no repetition                1.0             single point  \n"
     ]
    },
    {
     "name": "stderr",
     "output_type": "stream",
     "text": [
      "d:\\finki\\40_diploma_thesis\\venv\\lib\\site-packages\\pandas\\core\\frame.py:5233: SettingWithCopyWarning: \n",
      "A value is trying to be set on a copy of a slice from a DataFrame\n",
      "\n",
      "See the caveats in the documentation: https://pandas.pydata.org/pandas-docs/stable/user_guide/indexing.html#returning-a-view-versus-a-copy\n",
      "  return super().replace(\n"
     ]
    }
   ],
   "source": [
    "page6_tables = tabula.read_pdf(r'D:\\FINKI\\40_diploma_thesis\\papers\\dataset_paper.pdf',pages = [6])\n",
    "page6_table = page6_tables[0].iloc[:-1]\n",
    "page6_table.columns = ['Bearing Code', 'Damage', 'Bearing element', 'Combination', 'Arrangement', ' Extent of damage', 'Characteristic of damage']\n",
    "page6_table.replace({'IR\\r(+OR)': 'IR (+OR)',\n",
    "                     'single\\rpoint': 'single point',\n",
    "                     'Plastic deform.:\\rIndentations': 'Plastic deform.: Indentations',\n",
    "                     'no\\rrepetition': 'no repetition'}, inplace = True)\n",
    "print(page6_table)\n",
    "page6_table.to_csv('DatasetPaper_Table5.csv')"
   ],
   "metadata": {
    "collapsed": false,
    "pycharm": {
     "name": "#%%\n"
    }
   }
  },
  {
   "cell_type": "code",
   "execution_count": 5,
   "outputs": [],
   "source": [
    "page8_tables = tabula.read_pdf(r'D:\\FINKI\\40_diploma_thesis\\papers\\dataset_paper.pdf',pages = [8])\n",
    "page8_table1 = page8_tables[0]\n",
    "page8_table2 = page8_tables[1]"
   ],
   "metadata": {
    "collapsed": false,
    "pycharm": {
     "name": "#%%\n"
    }
   }
  },
  {
   "cell_type": "code",
   "execution_count": 6,
   "outputs": [
    {
     "data": {
      "text/plain": "  Rotational speed [rpm] Load Torque [Nm] Radial Force [N] Setting Name\n2                   1500              0.7             1000  N15_M07_F10\n3                    900              0.7             1000  N09_M07_F10\n4                   1500              0.1             1000  N15_M01_F10\n6                   1500              0.7              400  N15_M07_F04",
      "text/html": "<div>\n<style scoped>\n    .dataframe tbody tr th:only-of-type {\n        vertical-align: middle;\n    }\n\n    .dataframe tbody tr th {\n        vertical-align: top;\n    }\n\n    .dataframe thead th {\n        text-align: right;\n    }\n</style>\n<table border=\"1\" class=\"dataframe\">\n  <thead>\n    <tr style=\"text-align: right;\">\n      <th></th>\n      <th>Rotational speed [rpm]</th>\n      <th>Load Torque [Nm]</th>\n      <th>Radial Force [N]</th>\n      <th>Setting Name</th>\n    </tr>\n  </thead>\n  <tbody>\n    <tr>\n      <th>2</th>\n      <td>1500</td>\n      <td>0.7</td>\n      <td>1000</td>\n      <td>N15_M07_F10</td>\n    </tr>\n    <tr>\n      <th>3</th>\n      <td>900</td>\n      <td>0.7</td>\n      <td>1000</td>\n      <td>N09_M07_F10</td>\n    </tr>\n    <tr>\n      <th>4</th>\n      <td>1500</td>\n      <td>0.1</td>\n      <td>1000</td>\n      <td>N15_M01_F10</td>\n    </tr>\n    <tr>\n      <th>6</th>\n      <td>1500</td>\n      <td>0.7</td>\n      <td>400</td>\n      <td>N15_M07_F04</td>\n    </tr>\n  </tbody>\n</table>\n</div>"
     },
     "execution_count": 6,
     "metadata": {},
     "output_type": "execute_result"
    }
   ],
   "source": [
    "\n",
    "page8_table1 = page8_table1[page8_table1.columns[1:5]]\n",
    "page8_table1 = page8_table1.iloc[2:5].append(page8_table1.iloc[6])\n",
    "page8_table1.columns = ['Rotational speed [rpm]', 'Load Torque [Nm]', 'Radial Force [N]', 'Setting Name']\n",
    "page8_table1\n",
    "page8_table1.to_csv('DatasetPaper_Table6.csv')"
   ],
   "metadata": {
    "collapsed": false,
    "pycharm": {
     "name": "#%%\n"
    }
   }
  },
  {
   "cell_type": "code",
   "execution_count": 7,
   "outputs": [],
   "source": [
    "table = page8_table2\n",
    "table = table[table.columns[:-1]]\n",
    "table = table.iloc[4:]\n",
    "table.dropna(inplace = True, axis = 0)\n",
    "table.columns = ['Bearing Code', 'Run-in Period [h]', 'Radial Load [N]', 'Speed [min]']\n",
    "page8_table2 = table\n",
    "page8_table2.to_csv('DatasetPaper_Table7.csv')"
   ],
   "metadata": {
    "collapsed": false,
    "pycharm": {
     "name": "#%%\n"
    }
   }
  },
  {
   "cell_type": "code",
   "execution_count": null,
   "outputs": [],
   "source": [],
   "metadata": {
    "collapsed": false,
    "pycharm": {
     "name": "#%%\n"
    }
   }
  }
 ],
 "metadata": {
  "kernelspec": {
   "display_name": "Python 3",
   "language": "python",
   "name": "python3"
  },
  "language_info": {
   "codemirror_mode": {
    "name": "ipython",
    "version": 2
   },
   "file_extension": ".py",
   "mimetype": "text/x-python",
   "name": "python",
   "nbconvert_exporter": "python",
   "pygments_lexer": "ipython2",
   "version": "2.7.6"
  }
 },
 "nbformat": 4,
 "nbformat_minor": 0
}