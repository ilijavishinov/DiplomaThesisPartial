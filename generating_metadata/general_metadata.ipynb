{
 "cells": [
  {
   "cell_type": "code",
   "execution_count": 2,
   "metadata": {
    "collapsed": true
   },
   "outputs": [],
   "source": [
    "from modules import json_module\n",
    "\n",
    "write_metadata_dir = r'metadata'\n",
    "\n",
    "y_map = {\n",
    "    'K001':0,'K002':0,'K003':0,'K004':0,'K005':0,'K006':0,\n",
    "    'KA01':1,'KA03':1,'KA04':1,'KA05':1,'KA06':1,'KA07':1,'KA08':1,'KA09':1,'KA15':1,'KA16':1,'KA22':1,'KA30':1,\n",
    "    'KB23':1,'KB24':1,'KB27':1,\n",
    "    'KI01':1,'KI03':1,'KI04':1,'KI05':1,'KI07':1,'KI08':1,'KI14':1,'KI16':1,'KI17':1,'KI18':1,'KI21':1,\n",
    "}\n",
    "\n",
    "json_module.dict_to_json(y_map, r'D:\\FINKI\\40_diploma_thesis\\metadata\\y_map.json')"
   ]
  },
  {
   "cell_type": "code",
   "execution_count": null,
   "outputs": [],
   "source": [],
   "metadata": {
    "collapsed": false,
    "pycharm": {
     "name": "#%%\n"
    }
   }
  }
 ],
 "metadata": {
  "kernelspec": {
   "display_name": "Python 3",
   "language": "python",
   "name": "python3"
  },
  "language_info": {
   "codemirror_mode": {
    "name": "ipython",
    "version": 2
   },
   "file_extension": ".py",
   "mimetype": "text/x-python",
   "name": "python",
   "nbconvert_exporter": "python",
   "pygments_lexer": "ipython2",
   "version": "2.7.6"
  }
 },
 "nbformat": 4,
 "nbformat_minor": 0
}