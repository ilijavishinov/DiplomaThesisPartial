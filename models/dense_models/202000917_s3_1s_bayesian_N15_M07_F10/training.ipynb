{
 "cells": [
  {
   "cell_type": "code",
   "execution_count": 1,
   "outputs": [],
   "source": [
    "from comet_ml import Experiment\n",
    "from keras.callbacks import EarlyStopping\n",
    "from scikeras.wrappers import KerasClassifier\n",
    "from keras_metrics_module import f1_1_func, f1_0_func, recall_func, precision_func, f1_macro_func\n",
    "import itertools\n",
    "import pandas as pd\n",
    "from modules.testing_module import metrics_report\n",
    "from modules import json_module, h5py_module, dirs_module\n",
    "from keras.models import Sequential\n",
    "from keras.layers import Conv1D, MaxPooling1D, Flatten, Dense, Dropout, BatchNormalization, ReLU\n",
    "import numpy as np\n",
    "import tensorflow as tf\n",
    "import keras_tuner as kt\n",
    "\n",
    "try:\n",
    "    gpus = tf.config.experimental.list_physical_devices('GPU')\n",
    "    tf.config.experimental.set_memory_growth(gpus[0], True)\n",
    "except:\n",
    "    pass"
   ],
   "metadata": {
    "collapsed": false,
    "pycharm": {
     "name": "#%%\n"
    }
   }
  },
  {
   "cell_type": "code",
   "execution_count": 2,
   "outputs": [],
   "source": [
    "SPLIT_ID = 'S3'\n",
    "REGIME = 'all'\n",
    "FEATURE = ''\n",
    "MACHINE_ID = ''\n",
    "DURATION = '05S'\n",
    "ADDITIONAL_INFO = 'COMBINED'\n",
    "COMET_PROJECT = '0917_1s_n15_m07_f10'\n",
    "EXPERIMENT_ID = f'{SPLIT_ID}_{DURATION}_{REGIME}_{MACHINE_ID}_{ADDITIONAL_INFO}'\n",
    "\n",
    "data_dir = r'G:\\data\\splits\\s3_1s_bayesian'"
   ],
   "metadata": {
    "collapsed": false,
    "pycharm": {
     "name": "#%%\n"
    }
   }
  },
  {
   "cell_type": "code",
   "execution_count": 4,
   "outputs": [],
   "source": [
    "fft_pairwise_bin_width_zero_padding_multiple = [\n",
    "        (15, 1),\n",
    "]\n",
    "wavelet_pairwise_bin_width_levels_multiple = [\n",
    "    (3, 700),\n",
    "]\n",
    "REGIME = 'N15_M07_F10'\n",
    "fft_bin_width, fft_zero_padding_multiple = fft_pairwise_bin_width_zero_padding_multiple[0]\n",
    "wavelet_levels, wavelet_bin_width = wavelet_pairwise_bin_width_levels_multiple[0]\n",
    "combined_id = f'fft_{fft_bin_width}_{fft_zero_padding_multiple}_' \\\n",
    "              f'wavelet_{wavelet_bin_width}_{wavelet_levels}'"
   ],
   "metadata": {
    "collapsed": false,
    "pycharm": {
     "name": "#%%\n"
    }
   }
  },
  {
   "cell_type": "code",
   "execution_count": null,
   "outputs": [],
   "source": [
    "x_train = np.load(f'{data_dir}/x_train_{REGIME}_{combined_id}.npy')\n",
    "x_train = x_train.astype('float32')\n",
    "y_train = np.load(f'{data_dir}/y_train_{REGIME}_{combined_id}.npy', allow_pickle = True)\n",
    "\n",
    "y_value_counts = pd.Series(list(y_train)).value_counts()\n",
    "class_weight = {\n",
    "    0: y_value_counts[1] / y_value_counts[0],\n",
    "    1: 1\n",
    "}\n",
    "\n",
    "x_val = np.load(f'{data_dir}/x_val_{REGIME}_{combined_id}.npy')\n",
    "x_val = x_val.astype('float32')\n",
    "y_val = np.load(f'{data_dir}/y_val_{REGIME}_{combined_id}.npy', allow_pickle = True)\n",
    "\n",
    "y_value_counts = pd.Series(list(y_val)).value_counts()\n",
    "val_class_weight = {\n",
    "    0: y_value_counts[1] / y_value_counts[0],\n",
    "    1: 1\n",
    "}\n",
    "val_sample_weights = np.array([val_class_weight[y_i_val] for y_i_val in y_val])\n",
    "\n",
    "INPUT_SHAPE = (x_train.shape[1],)"
   ],
   "metadata": {
    "collapsed": false,
    "pycharm": {
     "name": "#%%\n"
    }
   }
  },
  {
   "cell_type": "code",
   "execution_count": 4,
   "outputs": [
    {
     "data": {
      "text/plain": "0    17460\n1    15340\ndtype: int64"
     },
     "execution_count": 4,
     "metadata": {},
     "output_type": "execute_result"
    }
   ],
   "source": [
    "y_value_counts = pd.Series(list(y_train)).value_counts()\n",
    "y_value_counts"
   ],
   "metadata": {
    "collapsed": false,
    "pycharm": {
     "name": "#%%\n"
    }
   }
  },
  {
   "cell_type": "code",
   "execution_count": 5,
   "outputs": [],
   "source": [
    "def build_model(hp):\n",
    "\n",
    "    num_dense_layers = hp.Int('num_dense_layers',2,7)\n",
    "    first_dense_layer_num_nodes = hp.Int('first_dense_layer_num_nodes', 64, INPUT_SHAPE[0], step = 32)\n",
    "    dense_layers_shrinkage_factor = hp.Float('shrinkage_factor', 0.25, 1, step = 0.125)\n",
    "    loss_name = hp.Choice('loss_name', ['binary_crossentropy','categorical_hinge'])\n",
    "    batch_norm = True\n",
    "    optimizer_name = 'adam'\n",
    "    learning_rate = hp.Float('learning_rate', 0.001, 0.2, sampling = 'log')\n",
    "    dropout = hp.Choice('dropout', [True, False])\n",
    "    l2_lambda = hp.Float('l2_lambda', 0.01, 1, step = 0.05)\n",
    "\n",
    "    layers_list = [Dense(first_dense_layer_num_nodes,\n",
    "                         input_shape = INPUT_SHAPE,\n",
    "                         kernel_regularizer = tf.keras.regularizers.l2(l2 = l2_lambda))]\n",
    "    layers_list.append(ReLU())\n",
    "    if batch_norm:\n",
    "        layers_list.append(BatchNormalization())\n",
    "    if dropout:\n",
    "        layers_list.append(Dropout(0.1))\n",
    "\n",
    "    dense_layer_current_num_nodes = first_dense_layer_num_nodes\n",
    "    for dense_layer_number in range(1, num_dense_layers + 1):\n",
    "        dense_layer_current_num_nodes = dense_layer_current_num_nodes * dense_layers_shrinkage_factor\n",
    "        layers_list.append(Dense(dense_layer_current_num_nodes,\n",
    "                                 kernel_regularizer = tf.keras.regularizers.l2(l2 = l2_lambda)))\n",
    "        layers_list.append(ReLU())\n",
    "        if batch_norm:\n",
    "            layers_list.append(BatchNormalization())\n",
    "        if dropout:\n",
    "            layers_list.append(Dropout(0.1))\n",
    "\n",
    "    if dropout:\n",
    "        layers_list = layers_list[:-1]\n",
    "    layers_list.append(Dense(1, activation = 'sigmoid'))\n",
    "\n",
    "    if optimizer_name.lower() == 'adam':\n",
    "        optimizer = tf.optimizers.Adam(learning_rate = learning_rate)\n",
    "\n",
    "    built_model = Sequential(layers_list)\n",
    "    built_model.compile(loss = loss_name, optimizer = optimizer,\n",
    "                        metrics = ['accuracy', f1_macro_func, f1_1_func, f1_0_func, recall_func, precision_func])\n",
    "    return built_model"
   ],
   "metadata": {
    "collapsed": false,
    "pycharm": {
     "name": "#%%\n"
    }
   }
  },
  {
   "cell_type": "code",
   "execution_count": 6,
   "outputs": [
    {
     "name": "stdout",
     "output_type": "stream",
     "text": [
      "Trial 30 Complete [00h 20m 34s]\n",
      "val_f1_macro_func: 0.3995252748330434\n",
      "\n",
      "Best val_f1_macro_func So Far: 0.4278547763824463\n",
      "Total elapsed time: 06h 25m 27s\n",
      "\n",
      "Search: Running Trial #31\n",
      "\n",
      "Hyperparameter    |Value             |Best Value So Far \n",
      "num_dense_layers  |7                 |2                 \n",
      "first_dense_lay...|896               |288               \n",
      "shrinkage_factor  |1                 |0.25              \n",
      "loss_name         |binary_crossent...|categorical_hinge \n",
      "learning_rate     |0.0010981         |0.015958          \n",
      "dropout           |1                 |0                 \n",
      "l2_lambda         |0.16              |0.51              \n",
      "\n",
      "Epoch 1/20\n",
      "WARNING:tensorflow:Callback method `on_train_batch_end` is slow compared to the batch time (batch time: 0.0350s vs `on_train_batch_end` time: 0.0509s). Check your callbacks.\n",
      "Epoch 2/20\n"
     ]
    },
    {
     "ename": "KeyboardInterrupt",
     "evalue": "",
     "output_type": "error",
     "traceback": [
      "\u001B[1;31m---------------------------------------------------------------------------\u001B[0m",
      "\u001B[1;31mKeyboardInterrupt\u001B[0m                         Traceback (most recent call last)",
      "\u001B[1;32m~\\AppData\\Local\\Temp/ipykernel_16328/3833263345.py\u001B[0m in \u001B[0;36m<module>\u001B[1;34m\u001B[0m\n\u001B[0;32m     21\u001B[0m )\n\u001B[0;32m     22\u001B[0m \u001B[1;33m\u001B[0m\u001B[0m\n\u001B[1;32m---> 23\u001B[1;33m tuner.search(x_train, y_train,\n\u001B[0m\u001B[0;32m     24\u001B[0m              \u001B[0mbatch_size\u001B[0m \u001B[1;33m=\u001B[0m \u001B[1;36m16\u001B[0m\u001B[1;33m,\u001B[0m\u001B[1;33m\u001B[0m\u001B[1;33m\u001B[0m\u001B[0m\n\u001B[0;32m     25\u001B[0m              \u001B[0mepochs\u001B[0m \u001B[1;33m=\u001B[0m \u001B[1;36m20\u001B[0m\u001B[1;33m,\u001B[0m\u001B[1;33m\u001B[0m\u001B[1;33m\u001B[0m\u001B[0m\n",
      "\u001B[1;32md:\\finki\\40_diploma_thesis\\venv\\lib\\site-packages\\keras_tuner\\engine\\base_tuner.py\u001B[0m in \u001B[0;36msearch\u001B[1;34m(self, *fit_args, **fit_kwargs)\u001B[0m\n\u001B[0;32m    174\u001B[0m \u001B[1;33m\u001B[0m\u001B[0m\n\u001B[0;32m    175\u001B[0m             \u001B[0mself\u001B[0m\u001B[1;33m.\u001B[0m\u001B[0mon_trial_begin\u001B[0m\u001B[1;33m(\u001B[0m\u001B[0mtrial\u001B[0m\u001B[1;33m)\u001B[0m\u001B[1;33m\u001B[0m\u001B[1;33m\u001B[0m\u001B[0m\n\u001B[1;32m--> 176\u001B[1;33m             \u001B[0mself\u001B[0m\u001B[1;33m.\u001B[0m\u001B[0mrun_trial\u001B[0m\u001B[1;33m(\u001B[0m\u001B[0mtrial\u001B[0m\u001B[1;33m,\u001B[0m \u001B[1;33m*\u001B[0m\u001B[0mfit_args\u001B[0m\u001B[1;33m,\u001B[0m \u001B[1;33m**\u001B[0m\u001B[0mfit_kwargs\u001B[0m\u001B[1;33m)\u001B[0m\u001B[1;33m\u001B[0m\u001B[1;33m\u001B[0m\u001B[0m\n\u001B[0m\u001B[0;32m    177\u001B[0m             \u001B[0mself\u001B[0m\u001B[1;33m.\u001B[0m\u001B[0mon_trial_end\u001B[0m\u001B[1;33m(\u001B[0m\u001B[0mtrial\u001B[0m\u001B[1;33m)\u001B[0m\u001B[1;33m\u001B[0m\u001B[1;33m\u001B[0m\u001B[0m\n\u001B[0;32m    178\u001B[0m         \u001B[0mself\u001B[0m\u001B[1;33m.\u001B[0m\u001B[0mon_search_end\u001B[0m\u001B[1;33m(\u001B[0m\u001B[1;33m)\u001B[0m\u001B[1;33m\u001B[0m\u001B[1;33m\u001B[0m\u001B[0m\n",
      "\u001B[1;32md:\\finki\\40_diploma_thesis\\venv\\lib\\site-packages\\keras_tuner\\engine\\multi_execution_tuner.py\u001B[0m in \u001B[0;36mrun_trial\u001B[1;34m(self, trial, *fit_args, **fit_kwargs)\u001B[0m\n\u001B[0;32m     88\u001B[0m             \u001B[0mcopied_fit_kwargs\u001B[0m\u001B[1;33m[\u001B[0m\u001B[1;34m\"callbacks\"\u001B[0m\u001B[1;33m]\u001B[0m \u001B[1;33m=\u001B[0m \u001B[0mcallbacks\u001B[0m\u001B[1;33m\u001B[0m\u001B[1;33m\u001B[0m\u001B[0m\n\u001B[0;32m     89\u001B[0m \u001B[1;33m\u001B[0m\u001B[0m\n\u001B[1;32m---> 90\u001B[1;33m             \u001B[0mhistory\u001B[0m \u001B[1;33m=\u001B[0m \u001B[0mself\u001B[0m\u001B[1;33m.\u001B[0m\u001B[0m_build_and_fit_model\u001B[0m\u001B[1;33m(\u001B[0m\u001B[0mtrial\u001B[0m\u001B[1;33m,\u001B[0m \u001B[0mfit_args\u001B[0m\u001B[1;33m,\u001B[0m \u001B[0mcopied_fit_kwargs\u001B[0m\u001B[1;33m)\u001B[0m\u001B[1;33m\u001B[0m\u001B[1;33m\u001B[0m\u001B[0m\n\u001B[0m\u001B[0;32m     91\u001B[0m             \u001B[1;32mfor\u001B[0m \u001B[0mmetric\u001B[0m\u001B[1;33m,\u001B[0m \u001B[0mepoch_values\u001B[0m \u001B[1;32min\u001B[0m \u001B[0mhistory\u001B[0m\u001B[1;33m.\u001B[0m\u001B[0mhistory\u001B[0m\u001B[1;33m.\u001B[0m\u001B[0mitems\u001B[0m\u001B[1;33m(\u001B[0m\u001B[1;33m)\u001B[0m\u001B[1;33m:\u001B[0m\u001B[1;33m\u001B[0m\u001B[1;33m\u001B[0m\u001B[0m\n\u001B[0;32m     92\u001B[0m                 \u001B[1;32mif\u001B[0m \u001B[0mself\u001B[0m\u001B[1;33m.\u001B[0m\u001B[0moracle\u001B[0m\u001B[1;33m.\u001B[0m\u001B[0mobjective\u001B[0m\u001B[1;33m.\u001B[0m\u001B[0mdirection\u001B[0m \u001B[1;33m==\u001B[0m \u001B[1;34m\"min\"\u001B[0m\u001B[1;33m:\u001B[0m\u001B[1;33m\u001B[0m\u001B[1;33m\u001B[0m\u001B[0m\n",
      "\u001B[1;32md:\\finki\\40_diploma_thesis\\venv\\lib\\site-packages\\keras_tuner\\engine\\tuner.py\u001B[0m in \u001B[0;36m_build_and_fit_model\u001B[1;34m(self, trial, fit_args, fit_kwargs)\u001B[0m\n\u001B[0;32m    147\u001B[0m         \"\"\"\n\u001B[0;32m    148\u001B[0m         \u001B[0mmodel\u001B[0m \u001B[1;33m=\u001B[0m \u001B[0mself\u001B[0m\u001B[1;33m.\u001B[0m\u001B[0mhypermodel\u001B[0m\u001B[1;33m.\u001B[0m\u001B[0mbuild\u001B[0m\u001B[1;33m(\u001B[0m\u001B[0mtrial\u001B[0m\u001B[1;33m.\u001B[0m\u001B[0mhyperparameters\u001B[0m\u001B[1;33m)\u001B[0m\u001B[1;33m\u001B[0m\u001B[1;33m\u001B[0m\u001B[0m\n\u001B[1;32m--> 149\u001B[1;33m         \u001B[1;32mreturn\u001B[0m \u001B[0mmodel\u001B[0m\u001B[1;33m.\u001B[0m\u001B[0mfit\u001B[0m\u001B[1;33m(\u001B[0m\u001B[1;33m*\u001B[0m\u001B[0mfit_args\u001B[0m\u001B[1;33m,\u001B[0m \u001B[1;33m**\u001B[0m\u001B[0mfit_kwargs\u001B[0m\u001B[1;33m)\u001B[0m\u001B[1;33m\u001B[0m\u001B[1;33m\u001B[0m\u001B[0m\n\u001B[0m\u001B[0;32m    150\u001B[0m \u001B[1;33m\u001B[0m\u001B[0m\n\u001B[0;32m    151\u001B[0m     \u001B[1;32mdef\u001B[0m \u001B[0mrun_trial\u001B[0m\u001B[1;33m(\u001B[0m\u001B[0mself\u001B[0m\u001B[1;33m,\u001B[0m \u001B[0mtrial\u001B[0m\u001B[1;33m,\u001B[0m \u001B[1;33m*\u001B[0m\u001B[0mfit_args\u001B[0m\u001B[1;33m,\u001B[0m \u001B[1;33m**\u001B[0m\u001B[0mfit_kwargs\u001B[0m\u001B[1;33m)\u001B[0m\u001B[1;33m:\u001B[0m\u001B[1;33m\u001B[0m\u001B[1;33m\u001B[0m\u001B[0m\n",
      "\u001B[1;32md:\\finki\\40_diploma_thesis\\venv\\lib\\site-packages\\comet_ml\\monkey_patching.py\u001B[0m in \u001B[0;36mwrapper\u001B[1;34m(*args, **kwargs)\u001B[0m\n\u001B[0;32m    315\u001B[0m                     )\n\u001B[0;32m    316\u001B[0m \u001B[1;33m\u001B[0m\u001B[0m\n\u001B[1;32m--> 317\u001B[1;33m         \u001B[0mreturn_value\u001B[0m \u001B[1;33m=\u001B[0m \u001B[0moriginal\u001B[0m\u001B[1;33m(\u001B[0m\u001B[1;33m*\u001B[0m\u001B[0margs\u001B[0m\u001B[1;33m,\u001B[0m \u001B[1;33m**\u001B[0m\u001B[0mkwargs\u001B[0m\u001B[1;33m)\u001B[0m\u001B[1;33m\u001B[0m\u001B[1;33m\u001B[0m\u001B[0m\n\u001B[0m\u001B[0;32m    318\u001B[0m \u001B[1;33m\u001B[0m\u001B[0m\n\u001B[0;32m    319\u001B[0m         \u001B[1;31m# Call after callbacks once we have the return value\u001B[0m\u001B[1;33m\u001B[0m\u001B[1;33m\u001B[0m\u001B[1;33m\u001B[0m\u001B[0m\n",
      "\u001B[1;32md:\\finki\\40_diploma_thesis\\venv\\lib\\site-packages\\keras\\engine\\training.py\u001B[0m in \u001B[0;36mfit\u001B[1;34m(self, x, y, batch_size, epochs, verbose, callbacks, validation_split, validation_data, shuffle, class_weight, sample_weight, initial_epoch, steps_per_epoch, validation_steps, validation_batch_size, validation_freq, max_queue_size, workers, use_multiprocessing)\u001B[0m\n\u001B[0;32m   1182\u001B[0m                 _r=1):\n\u001B[0;32m   1183\u001B[0m               \u001B[0mcallbacks\u001B[0m\u001B[1;33m.\u001B[0m\u001B[0mon_train_batch_begin\u001B[0m\u001B[1;33m(\u001B[0m\u001B[0mstep\u001B[0m\u001B[1;33m)\u001B[0m\u001B[1;33m\u001B[0m\u001B[1;33m\u001B[0m\u001B[0m\n\u001B[1;32m-> 1184\u001B[1;33m               \u001B[0mtmp_logs\u001B[0m \u001B[1;33m=\u001B[0m \u001B[0mself\u001B[0m\u001B[1;33m.\u001B[0m\u001B[0mtrain_function\u001B[0m\u001B[1;33m(\u001B[0m\u001B[0miterator\u001B[0m\u001B[1;33m)\u001B[0m\u001B[1;33m\u001B[0m\u001B[1;33m\u001B[0m\u001B[0m\n\u001B[0m\u001B[0;32m   1185\u001B[0m               \u001B[1;32mif\u001B[0m \u001B[0mdata_handler\u001B[0m\u001B[1;33m.\u001B[0m\u001B[0mshould_sync\u001B[0m\u001B[1;33m:\u001B[0m\u001B[1;33m\u001B[0m\u001B[1;33m\u001B[0m\u001B[0m\n\u001B[0;32m   1186\u001B[0m                 \u001B[0mcontext\u001B[0m\u001B[1;33m.\u001B[0m\u001B[0masync_wait\u001B[0m\u001B[1;33m(\u001B[0m\u001B[1;33m)\u001B[0m\u001B[1;33m\u001B[0m\u001B[1;33m\u001B[0m\u001B[0m\n",
      "\u001B[1;32md:\\finki\\40_diploma_thesis\\venv\\lib\\site-packages\\tensorflow\\python\\eager\\def_function.py\u001B[0m in \u001B[0;36m__call__\u001B[1;34m(self, *args, **kwds)\u001B[0m\n\u001B[0;32m    883\u001B[0m \u001B[1;33m\u001B[0m\u001B[0m\n\u001B[0;32m    884\u001B[0m       \u001B[1;32mwith\u001B[0m \u001B[0mOptionalXlaContext\u001B[0m\u001B[1;33m(\u001B[0m\u001B[0mself\u001B[0m\u001B[1;33m.\u001B[0m\u001B[0m_jit_compile\u001B[0m\u001B[1;33m)\u001B[0m\u001B[1;33m:\u001B[0m\u001B[1;33m\u001B[0m\u001B[1;33m\u001B[0m\u001B[0m\n\u001B[1;32m--> 885\u001B[1;33m         \u001B[0mresult\u001B[0m \u001B[1;33m=\u001B[0m \u001B[0mself\u001B[0m\u001B[1;33m.\u001B[0m\u001B[0m_call\u001B[0m\u001B[1;33m(\u001B[0m\u001B[1;33m*\u001B[0m\u001B[0margs\u001B[0m\u001B[1;33m,\u001B[0m \u001B[1;33m**\u001B[0m\u001B[0mkwds\u001B[0m\u001B[1;33m)\u001B[0m\u001B[1;33m\u001B[0m\u001B[1;33m\u001B[0m\u001B[0m\n\u001B[0m\u001B[0;32m    886\u001B[0m \u001B[1;33m\u001B[0m\u001B[0m\n\u001B[0;32m    887\u001B[0m       \u001B[0mnew_tracing_count\u001B[0m \u001B[1;33m=\u001B[0m \u001B[0mself\u001B[0m\u001B[1;33m.\u001B[0m\u001B[0mexperimental_get_tracing_count\u001B[0m\u001B[1;33m(\u001B[0m\u001B[1;33m)\u001B[0m\u001B[1;33m\u001B[0m\u001B[1;33m\u001B[0m\u001B[0m\n",
      "\u001B[1;32md:\\finki\\40_diploma_thesis\\venv\\lib\\site-packages\\tensorflow\\python\\eager\\def_function.py\u001B[0m in \u001B[0;36m_call\u001B[1;34m(self, *args, **kwds)\u001B[0m\n\u001B[0;32m    915\u001B[0m       \u001B[1;31m# In this case we have created variables on the first call, so we run the\u001B[0m\u001B[1;33m\u001B[0m\u001B[1;33m\u001B[0m\u001B[1;33m\u001B[0m\u001B[0m\n\u001B[0;32m    916\u001B[0m       \u001B[1;31m# defunned version which is guaranteed to never create variables.\u001B[0m\u001B[1;33m\u001B[0m\u001B[1;33m\u001B[0m\u001B[1;33m\u001B[0m\u001B[0m\n\u001B[1;32m--> 917\u001B[1;33m       \u001B[1;32mreturn\u001B[0m \u001B[0mself\u001B[0m\u001B[1;33m.\u001B[0m\u001B[0m_stateless_fn\u001B[0m\u001B[1;33m(\u001B[0m\u001B[1;33m*\u001B[0m\u001B[0margs\u001B[0m\u001B[1;33m,\u001B[0m \u001B[1;33m**\u001B[0m\u001B[0mkwds\u001B[0m\u001B[1;33m)\u001B[0m  \u001B[1;31m# pylint: disable=not-callable\u001B[0m\u001B[1;33m\u001B[0m\u001B[1;33m\u001B[0m\u001B[0m\n\u001B[0m\u001B[0;32m    918\u001B[0m     \u001B[1;32melif\u001B[0m \u001B[0mself\u001B[0m\u001B[1;33m.\u001B[0m\u001B[0m_stateful_fn\u001B[0m \u001B[1;32mis\u001B[0m \u001B[1;32mnot\u001B[0m \u001B[1;32mNone\u001B[0m\u001B[1;33m:\u001B[0m\u001B[1;33m\u001B[0m\u001B[1;33m\u001B[0m\u001B[0m\n\u001B[0;32m    919\u001B[0m       \u001B[1;31m# Release the lock early so that multiple threads can perform the call\u001B[0m\u001B[1;33m\u001B[0m\u001B[1;33m\u001B[0m\u001B[1;33m\u001B[0m\u001B[0m\n",
      "\u001B[1;32md:\\finki\\40_diploma_thesis\\venv\\lib\\site-packages\\tensorflow\\python\\eager\\function.py\u001B[0m in \u001B[0;36m__call__\u001B[1;34m(self, *args, **kwargs)\u001B[0m\n\u001B[0;32m   3037\u001B[0m       (graph_function,\n\u001B[0;32m   3038\u001B[0m        filtered_flat_args) = self._maybe_define_function(args, kwargs)\n\u001B[1;32m-> 3039\u001B[1;33m     return graph_function._call_flat(\n\u001B[0m\u001B[0;32m   3040\u001B[0m         filtered_flat_args, captured_inputs=graph_function.captured_inputs)  # pylint: disable=protected-access\n\u001B[0;32m   3041\u001B[0m \u001B[1;33m\u001B[0m\u001B[0m\n",
      "\u001B[1;32md:\\finki\\40_diploma_thesis\\venv\\lib\\site-packages\\tensorflow\\python\\eager\\function.py\u001B[0m in \u001B[0;36m_call_flat\u001B[1;34m(self, args, captured_inputs, cancellation_manager)\u001B[0m\n\u001B[0;32m   1961\u001B[0m         and executing_eagerly):\n\u001B[0;32m   1962\u001B[0m       \u001B[1;31m# No tape is watching; skip to running the function.\u001B[0m\u001B[1;33m\u001B[0m\u001B[1;33m\u001B[0m\u001B[1;33m\u001B[0m\u001B[0m\n\u001B[1;32m-> 1963\u001B[1;33m       return self._build_call_outputs(self._inference_function.call(\n\u001B[0m\u001B[0;32m   1964\u001B[0m           ctx, args, cancellation_manager=cancellation_manager))\n\u001B[0;32m   1965\u001B[0m     forward_backward = self._select_forward_and_backward_functions(\n",
      "\u001B[1;32md:\\finki\\40_diploma_thesis\\venv\\lib\\site-packages\\tensorflow\\python\\eager\\function.py\u001B[0m in \u001B[0;36mcall\u001B[1;34m(self, ctx, args, cancellation_manager)\u001B[0m\n\u001B[0;32m    589\u001B[0m       \u001B[1;32mwith\u001B[0m \u001B[0m_InterpolateFunctionError\u001B[0m\u001B[1;33m(\u001B[0m\u001B[0mself\u001B[0m\u001B[1;33m)\u001B[0m\u001B[1;33m:\u001B[0m\u001B[1;33m\u001B[0m\u001B[1;33m\u001B[0m\u001B[0m\n\u001B[0;32m    590\u001B[0m         \u001B[1;32mif\u001B[0m \u001B[0mcancellation_manager\u001B[0m \u001B[1;32mis\u001B[0m \u001B[1;32mNone\u001B[0m\u001B[1;33m:\u001B[0m\u001B[1;33m\u001B[0m\u001B[1;33m\u001B[0m\u001B[0m\n\u001B[1;32m--> 591\u001B[1;33m           outputs = execute.execute(\n\u001B[0m\u001B[0;32m    592\u001B[0m               \u001B[0mstr\u001B[0m\u001B[1;33m(\u001B[0m\u001B[0mself\u001B[0m\u001B[1;33m.\u001B[0m\u001B[0msignature\u001B[0m\u001B[1;33m.\u001B[0m\u001B[0mname\u001B[0m\u001B[1;33m)\u001B[0m\u001B[1;33m,\u001B[0m\u001B[1;33m\u001B[0m\u001B[1;33m\u001B[0m\u001B[0m\n\u001B[0;32m    593\u001B[0m               \u001B[0mnum_outputs\u001B[0m\u001B[1;33m=\u001B[0m\u001B[0mself\u001B[0m\u001B[1;33m.\u001B[0m\u001B[0m_num_outputs\u001B[0m\u001B[1;33m,\u001B[0m\u001B[1;33m\u001B[0m\u001B[1;33m\u001B[0m\u001B[0m\n",
      "\u001B[1;32md:\\finki\\40_diploma_thesis\\venv\\lib\\site-packages\\tensorflow\\python\\eager\\execute.py\u001B[0m in \u001B[0;36mquick_execute\u001B[1;34m(op_name, num_outputs, inputs, attrs, ctx, name)\u001B[0m\n\u001B[0;32m     57\u001B[0m   \u001B[1;32mtry\u001B[0m\u001B[1;33m:\u001B[0m\u001B[1;33m\u001B[0m\u001B[1;33m\u001B[0m\u001B[0m\n\u001B[0;32m     58\u001B[0m     \u001B[0mctx\u001B[0m\u001B[1;33m.\u001B[0m\u001B[0mensure_initialized\u001B[0m\u001B[1;33m(\u001B[0m\u001B[1;33m)\u001B[0m\u001B[1;33m\u001B[0m\u001B[1;33m\u001B[0m\u001B[0m\n\u001B[1;32m---> 59\u001B[1;33m     tensors = pywrap_tfe.TFE_Py_Execute(ctx._handle, device_name, op_name,\n\u001B[0m\u001B[0;32m     60\u001B[0m                                         inputs, attrs, num_outputs)\n\u001B[0;32m     61\u001B[0m   \u001B[1;32mexcept\u001B[0m \u001B[0mcore\u001B[0m\u001B[1;33m.\u001B[0m\u001B[0m_NotOkStatusException\u001B[0m \u001B[1;32mas\u001B[0m \u001B[0me\u001B[0m\u001B[1;33m:\u001B[0m\u001B[1;33m\u001B[0m\u001B[1;33m\u001B[0m\u001B[0m\n",
      "\u001B[1;31mKeyboardInterrupt\u001B[0m: "
     ]
    }
   ],
   "source": [
    "tensorboard_log_dir = f'G:/training/{COMET_PROJECT}/tensorboard'\n",
    "\n",
    "tb_callback = tf.keras.callbacks.TensorBoard(\n",
    "    log_dir=tensorboard_log_dir,\n",
    "    histogram_freq=100,\n",
    "    embeddings_freq=100,\n",
    "    write_graph=True,\n",
    "    update_freq='batch'\n",
    ")\n",
    "\n",
    "stop_callback = EarlyStopping(monitor='val_loss', patience=3, verbose=0, mode='auto')\n",
    "\n",
    "tuner = kt.BayesianOptimization(\n",
    "    build_model,\n",
    "    objective = kt.Objective('val_f1_macro_func', direction=\"max\"),\n",
    "    max_trials = 1000,\n",
    "    executions_per_trial = 3,\n",
    "    num_initial_points = 10,\n",
    "    directory=f'G:/training/{COMET_PROJECT}/kerass_tuner',\n",
    "    project_name=\"initial_val\",\n",
    ")\n",
    "\n",
    "tuner.search(x_train, y_train,\n",
    "             batch_size = 16,\n",
    "             epochs = 20,\n",
    "             class_weight = class_weight,\n",
    "             verbose = 10,\n",
    "             validation_data = (x_val, y_val, val_sample_weights),\n",
    "             callbacks= [tb_callback, stop_callback],\n",
    "             use_multiprocessing = True,\n",
    "             shuffle = True,\n",
    "             )"
   ],
   "metadata": {
    "collapsed": false,
    "pycharm": {
     "name": "#%%\n"
    }
   }
  },
  {
   "cell_type": "code",
   "execution_count": 7,
   "outputs": [],
   "source": [
    "x_test = np.load(f'{data_dir}/x_test_{REGIME}_{combined_id}.npy')\n",
    "x_test = x_test.astype('float32')\n",
    "y_test = np.load(f'{data_dir}/y_test_{REGIME}_{combined_id}.npy', allow_pickle = True)\n"
   ],
   "metadata": {
    "collapsed": false,
    "pycharm": {
     "name": "#%%\n"
    }
   }
  },
  {
   "cell_type": "code",
   "execution_count": 8,
   "outputs": [
    {
     "name": "stdout",
     "output_type": "stream",
     "text": [
      "{'accuracy': 0.7392, 'f1_macro': 0.7276, 'f1_weighted': 0.7245, 'f1_micro': 0.7392, 'f1_1': 0.6714, 'f1_0': 0.7838, 'precision': 1.0, 'recall': 0.5054, 'specificity': 1.0, 'npv': 0.6445, 'TP': 6560, 'FP': 0, 'FN': 6420, 'TN': 11640}\n",
      "{'accuracy': 0.9041, 'f1_macro': 0.904, 'f1_weighted': 0.9037, 'f1_micro': 0.9041, 'f1_1': 0.9, 'f1_0': 0.9079, 'precision': 1.0, 'recall': 0.8182, 'specificity': 1.0, 'npv': 0.8314, 'TP': 10620, 'FP': 0, 'FN': 2360, 'TN': 11640}\n",
      "{'accuracy': 0.7939, 'f1_macro': 0.789, 'f1_weighted': 0.7873, 'f1_micro': 0.7939, 'f1_1': 0.757, 'f1_0': 0.821, 'precision': 1.0, 'recall': 0.609, 'specificity': 1.0, 'npv': 0.6964, 'TP': 7905, 'FP': 0, 'FN': 5075, 'TN': 11640}\n",
      "{'accuracy': 0.7403, 'f1_macro': 0.7247, 'f1_weighted': 0.7283, 'f1_micro': 0.7403, 'f1_1': 0.7901, 'f1_0': 0.6593, 'precision': 0.6882, 'recall': 0.9274, 'specificity': 0.5315, 'npv': 0.8679, 'TP': 12038, 'FP': 5453, 'FN': 942, 'TN': 6187}\n",
      "{'accuracy': 0.6366, 'f1_macro': 0.6169, 'f1_weighted': 0.6216, 'f1_micro': 0.6366, 'f1_1': 0.7039, 'f1_0': 0.5299, 'precision': 0.6171, 'recall': 0.819, 'specificity': 0.4332, 'npv': 0.6821, 'TP': 10630, 'FP': 6597, 'FN': 2350, 'TN': 5043}\n",
      "{'accuracy': 0.9497, 'f1_macro': 0.9497, 'f1_weighted': 0.9497, 'f1_micro': 0.9497, 'f1_1': 0.9499, 'f1_0': 0.9495, 'precision': 1.0, 'recall': 0.9045, 'specificity': 1.0, 'npv': 0.9038, 'TP': 11741, 'FP': 0, 'FN': 1239, 'TN': 11640}\n",
      "{'accuracy': 0.8747, 'f1_macro': 0.874, 'f1_weighted': 0.8735, 'f1_micro': 0.8747, 'f1_1': 0.8651, 'f1_0': 0.8829, 'precision': 1.0, 'recall': 0.7622, 'specificity': 1.0, 'npv': 0.7904, 'TP': 9894, 'FP': 0, 'FN': 3086, 'TN': 11640}\n",
      "{'accuracy': 0.6259, 'f1_macro': 0.617, 'f1_weighted': 0.6201, 'f1_micro': 0.6259, 'f1_1': 0.6756, 'f1_0': 0.5583, 'precision': 0.6223, 'recall': 0.7388, 'specificity': 0.5, 'npv': 0.6319, 'TP': 9590, 'FP': 5820, 'FN': 3390, 'TN': 5820}\n",
      "{'accuracy': 0.7553, 'f1_macro': 0.7553, 'f1_weighted': 0.7552, 'f1_micro': 0.7553, 'f1_1': 0.7535, 'f1_0': 0.7571, 'precision': 0.8034, 'recall': 0.7095, 'specificity': 0.8064, 'npv': 0.7134, 'TP': 9209, 'FP': 2253, 'FN': 3771, 'TN': 9387}\n",
      "{'accuracy': 0.7636, 'f1_macro': 0.7417, 'f1_weighted': 0.7458, 'f1_micro': 0.7636, 'f1_1': 0.8168, 'f1_0': 0.6667, 'precision': 0.6904, 'recall': 1.0, 'specificity': 0.5, 'npv': 1.0, 'TP': 12980, 'FP': 5820, 'FN': 0, 'TN': 5820}\n",
      "{'accuracy': 0.665, 'f1_macro': 0.6642, 'f1_weighted': 0.6651, 'f1_micro': 0.665, 'f1_1': 0.6809, 'f1_0': 0.6475, 'precision': 0.6839, 'recall': 0.6779, 'specificity': 0.6507, 'npv': 0.6443, 'TP': 8799, 'FP': 4066, 'FN': 4181, 'TN': 7574}\n",
      "{'accuracy': 0.805, 'f1_macro': 0.801, 'f1_weighted': 0.7995, 'f1_micro': 0.805, 'f1_1': 0.7731, 'f1_0': 0.829, 'precision': 1.0, 'recall': 0.6301, 'specificity': 1.0, 'npv': 0.708, 'TP': 8179, 'FP': 0, 'FN': 4801, 'TN': 11640}\n",
      "{'accuracy': 0.8083, 'f1_macro': 0.8046, 'f1_weighted': 0.8031, 'f1_micro': 0.8083, 'f1_1': 0.7778, 'f1_0': 0.8314, 'precision': 1.0, 'recall': 0.6364, 'specificity': 1.0, 'npv': 0.7115, 'TP': 8260, 'FP': 0, 'FN': 4720, 'TN': 11640}\n",
      "{'accuracy': 0.8047, 'f1_macro': 0.8007, 'f1_weighted': 0.7992, 'f1_micro': 0.8047, 'f1_1': 0.7726, 'f1_0': 0.8288, 'precision': 1.0, 'recall': 0.6295, 'specificity': 1.0, 'npv': 0.7076, 'TP': 8171, 'FP': 0, 'FN': 4809, 'TN': 11640}\n",
      "{'accuracy': 0.7124, 'f1_macro': 0.6959, 'f1_weighted': 0.692, 'f1_micro': 0.7124, 'f1_1': 0.625, 'f1_0': 0.7668, 'precision': 1.0, 'recall': 0.4545, 'specificity': 1.0, 'npv': 0.6218, 'TP': 5900, 'FP': 0, 'FN': 7080, 'TN': 11640}\n",
      "{'accuracy': 0.7101, 'f1_macro': 0.6931, 'f1_weighted': 0.6892, 'f1_micro': 0.7101, 'f1_1': 0.6208, 'f1_0': 0.7654, 'precision': 1.0, 'recall': 0.4501, 'specificity': 1.0, 'npv': 0.6199, 'TP': 5842, 'FP': 0, 'FN': 7138, 'TN': 11640}\n",
      "{'accuracy': 0.6974, 'f1_macro': 0.6775, 'f1_weighted': 0.6731, 'f1_micro': 0.6974, 'f1_1': 0.5975, 'f1_0': 0.7575, 'precision': 0.9996, 'recall': 0.4261, 'specificity': 0.9998, 'npv': 0.6097, 'TP': 5531, 'FP': 2, 'FN': 7449, 'TN': 11638}\n",
      "{'accuracy': 0.4728, 'f1_macro': 0, 'f1_weighted': 0, 'f1_micro': 0.4728, 'f1_1': 0, 'f1_0': 0.642, 'precision': 0, 'recall': 0.0, 'specificity': 1.0, 'npv': 0.4728, 'TP': 0, 'FP': 0, 'FN': 12980, 'TN': 11640}\n",
      "{'accuracy': 0.7832, 'f1_macro': 0.7774, 'f1_weighted': 0.7754, 'f1_micro': 0.7832, 'f1_1': 0.7412, 'f1_0': 0.8135, 'precision': 1.0, 'recall': 0.5888, 'specificity': 1.0, 'npv': 0.6856, 'TP': 7643, 'FP': 0, 'FN': 5337, 'TN': 11640}\n",
      "{'accuracy': 0.4728, 'f1_macro': 0, 'f1_weighted': 0, 'f1_micro': 0.4728, 'f1_1': 0, 'f1_0': 0.642, 'precision': 0, 'recall': 0.0, 'specificity': 1.0, 'npv': 0.4728, 'TP': 0, 'FP': 0, 'FN': 12980, 'TN': 11640}\n",
      "{'accuracy': 0.5801, 'f1_macro': 0.5752, 'f1_weighted': 0.5776, 'f1_micro': 0.5801, 'f1_1': 0.6207, 'f1_0': 0.5296, 'precision': 0.5925, 'recall': 0.6518, 'specificity': 0.5, 'npv': 0.5629, 'TP': 8461, 'FP': 5820, 'FN': 4519, 'TN': 5820}\n",
      "{'accuracy': 0.8472, 'f1_macro': 0.8461, 'f1_weighted': 0.8454, 'f1_micro': 0.8472, 'f1_1': 0.8329, 'f1_0': 0.8593, 'precision': 0.9835, 'recall': 0.7223, 'specificity': 0.9865, 'npv': 0.7611, 'TP': 9375, 'FP': 157, 'FN': 3605, 'TN': 11483}\n",
      "{'accuracy': 0.7604, 'f1_macro': 0.7518, 'f1_weighted': 0.7493, 'f1_micro': 0.7604, 'f1_1': 0.7059, 'f1_0': 0.7978, 'precision': 1.0, 'recall': 0.5455, 'specificity': 1.0, 'npv': 0.6636, 'TP': 7080, 'FP': 0, 'FN': 5900, 'TN': 11640}\n",
      "{'accuracy': 0.8379, 'f1_macro': 0.836, 'f1_weighted': 0.8351, 'f1_micro': 0.8379, 'f1_1': 0.8184, 'f1_0': 0.8537, 'precision': 1.0, 'recall': 0.6926, 'specificity': 1.0, 'npv': 0.7447, 'TP': 8990, 'FP': 0, 'FN': 3990, 'TN': 11640}\n",
      "{'accuracy': 0.7651, 'f1_macro': 0.7572, 'f1_weighted': 0.7548, 'f1_micro': 0.7651, 'f1_1': 0.7133, 'f1_0': 0.801, 'precision': 1.0, 'recall': 0.5544, 'specificity': 1.0, 'npv': 0.668, 'TP': 7196, 'FP': 0, 'FN': 5784, 'TN': 11640}\n",
      "{'accuracy': 0.8115, 'f1_macro': 0.811, 'f1_weighted': 0.8115, 'f1_micro': 0.8115, 'f1_1': 0.8207, 'f1_0': 0.8013, 'precision': 0.8233, 'recall': 0.8182, 'specificity': 0.8041, 'npv': 0.7986, 'TP': 10620, 'FP': 2280, 'FN': 2360, 'TN': 9360}\n",
      "{'accuracy': 0.7909, 'f1_macro': 0.7909, 'f1_weighted': 0.7907, 'f1_micro': 0.7909, 'f1_1': 0.789, 'f1_0': 0.7927, 'precision': 0.8427, 'recall': 0.7418, 'specificity': 0.8456, 'npv': 0.746, 'TP': 9628, 'FP': 1797, 'FN': 3352, 'TN': 9843}\n",
      "{'accuracy': 0.7648, 'f1_macro': 0.7568, 'f1_weighted': 0.7545, 'f1_micro': 0.7648, 'f1_1': 0.7129, 'f1_0': 0.8008, 'precision': 1.0, 'recall': 0.5539, 'specificity': 1.0, 'npv': 0.6678, 'TP': 7189, 'FP': 0, 'FN': 5791, 'TN': 11640}\n",
      "{'accuracy': 0.5855, 'f1_macro': 0.5801, 'f1_weighted': 0.5827, 'f1_micro': 0.5855, 'f1_1': 0.6274, 'f1_0': 0.5328, 'precision': 0.5962, 'recall': 0.6621, 'specificity': 0.5, 'npv': 0.5703, 'TP': 8594, 'FP': 5820, 'FN': 4386, 'TN': 5820}\n",
      "{'accuracy': 0.4728, 'f1_macro': 0, 'f1_weighted': 0, 'f1_micro': 0.4728, 'f1_1': 0, 'f1_0': 0.642, 'precision': 0, 'recall': 0.0, 'specificity': 1.0, 'npv': 0.4728, 'TP': 0, 'FP': 0, 'FN': 12980, 'TN': 11640}\n"
     ]
    },
    {
     "name": "stderr",
     "output_type": "stream",
     "text": [
      "D:\\FINKI\\40_diploma_thesis\\modules\\testing_module.py:20: RuntimeWarning: invalid value encountered in long_scalars\n",
      "  precision = round(true_positives / (true_positives + false_positives), 4)\n"
     ]
    }
   ],
   "source": [
    "best_models = tuner.get_best_models(10000)\n",
    "\n",
    "results_list = list()\n",
    "models_dir = 'saved_models'\n",
    "i = 0\n",
    "for model_i in best_models:\n",
    "    i+=1\n",
    "    model_i.save(f'{models_dir}/model_{i}.h5')\n",
    "\n",
    "    y_pred = model_i.predict(x_test)\n",
    "    y_pred = np.where(y_pred > 0.5, 1, 0).ravel()\n",
    "\n",
    "    test_metrics = metrics_report(y_test, y_pred)\n",
    "    print(test_metrics)\n",
    "    results_list.append(test_metrics)\n",
    "pd.DataFrame(results_list).to_excel('results_best_models.xlsx')"
   ],
   "metadata": {
    "collapsed": false,
    "pycharm": {
     "name": "#%%\n"
    }
   }
  },
  {
   "cell_type": "code",
   "execution_count": null,
   "outputs": [],
   "source": [],
   "metadata": {
    "collapsed": false,
    "pycharm": {
     "name": "#%%\n"
    }
   }
  }
 ],
 "metadata": {
  "kernelspec": {
   "display_name": "Python 3",
   "language": "python",
   "name": "python3"
  },
  "language_info": {
   "codemirror_mode": {
    "name": "ipython",
    "version": 2
   },
   "file_extension": ".py",
   "mimetype": "text/x-python",
   "name": "python",
   "nbconvert_exporter": "python",
   "pygments_lexer": "ipython2",
   "version": "2.7.6"
  }
 },
 "nbformat": 4,
 "nbformat_minor": 0
}